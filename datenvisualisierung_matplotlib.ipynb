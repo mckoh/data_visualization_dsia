{
 "cells": [
  {
   "cell_type": "markdown",
   "id": "dcd41d56",
   "metadata": {},
   "source": [
    "# Datenvisualisierung mit matplotlib"
   ]
  },
  {
   "cell_type": "code",
   "execution_count": 1,
   "id": "630b0c43",
   "metadata": {
    "ExecuteTime": {
     "end_time": "2023-12-01T14:25:25.160663Z",
     "start_time": "2023-12-01T14:25:23.287618Z"
    }
   },
   "outputs": [],
   "source": [
    "from matplotlib import pyplot as plt\n",
    "from pandas import read_csv\n",
    "from numpy import mean, max, min, std"
   ]
  },
  {
   "cell_type": "markdown",
   "id": "e83a77c6",
   "metadata": {},
   "source": [
    "## Daten Laden"
   ]
  },
  {
   "cell_type": "code",
   "execution_count": 2,
   "id": "1aebd171",
   "metadata": {
    "ExecuteTime": {
     "end_time": "2023-12-01T14:25:25.269948Z",
     "start_time": "2023-12-01T14:25:25.163179Z"
    }
   },
   "outputs": [],
   "source": [
    "data = read_csv(\"diamonds.csv\", sep=\",\")"
   ]
  },
  {
   "cell_type": "code",
   "execution_count": 3,
   "id": "85b46ae3",
   "metadata": {
    "ExecuteTime": {
     "end_time": "2023-12-01T14:25:25.315884Z",
     "start_time": "2023-12-01T14:25:25.276589Z"
    }
   },
   "outputs": [
    {
     "data": {
      "text/html": [
       "<div>\n",
       "<style scoped>\n",
       "    .dataframe tbody tr th:only-of-type {\n",
       "        vertical-align: middle;\n",
       "    }\n",
       "\n",
       "    .dataframe tbody tr th {\n",
       "        vertical-align: top;\n",
       "    }\n",
       "\n",
       "    .dataframe thead th {\n",
       "        text-align: right;\n",
       "    }\n",
       "</style>\n",
       "<table border=\"1\" class=\"dataframe\">\n",
       "  <thead>\n",
       "    <tr style=\"text-align: right;\">\n",
       "      <th></th>\n",
       "      <th>id</th>\n",
       "      <th>carat</th>\n",
       "      <th>cut</th>\n",
       "      <th>color</th>\n",
       "      <th>clarity</th>\n",
       "      <th>depth</th>\n",
       "      <th>table</th>\n",
       "      <th>price</th>\n",
       "      <th>x</th>\n",
       "      <th>y</th>\n",
       "      <th>z</th>\n",
       "    </tr>\n",
       "  </thead>\n",
       "  <tbody>\n",
       "    <tr>\n",
       "      <th>0</th>\n",
       "      <td>1</td>\n",
       "      <td>0.23</td>\n",
       "      <td>Ideal</td>\n",
       "      <td>E</td>\n",
       "      <td>SI2</td>\n",
       "      <td>61.5</td>\n",
       "      <td>55.0</td>\n",
       "      <td>326</td>\n",
       "      <td>3.95</td>\n",
       "      <td>3.98</td>\n",
       "      <td>2.43</td>\n",
       "    </tr>\n",
       "    <tr>\n",
       "      <th>1</th>\n",
       "      <td>2</td>\n",
       "      <td>0.21</td>\n",
       "      <td>Premium</td>\n",
       "      <td>E</td>\n",
       "      <td>SI1</td>\n",
       "      <td>59.8</td>\n",
       "      <td>61.0</td>\n",
       "      <td>326</td>\n",
       "      <td>3.89</td>\n",
       "      <td>3.84</td>\n",
       "      <td>2.31</td>\n",
       "    </tr>\n",
       "    <tr>\n",
       "      <th>2</th>\n",
       "      <td>3</td>\n",
       "      <td>0.23</td>\n",
       "      <td>Good</td>\n",
       "      <td>E</td>\n",
       "      <td>VS1</td>\n",
       "      <td>56.9</td>\n",
       "      <td>65.0</td>\n",
       "      <td>327</td>\n",
       "      <td>4.05</td>\n",
       "      <td>4.07</td>\n",
       "      <td>2.31</td>\n",
       "    </tr>\n",
       "    <tr>\n",
       "      <th>3</th>\n",
       "      <td>4</td>\n",
       "      <td>0.29</td>\n",
       "      <td>Premium</td>\n",
       "      <td>I</td>\n",
       "      <td>VS2</td>\n",
       "      <td>62.4</td>\n",
       "      <td>58.0</td>\n",
       "      <td>334</td>\n",
       "      <td>4.20</td>\n",
       "      <td>4.23</td>\n",
       "      <td>2.63</td>\n",
       "    </tr>\n",
       "    <tr>\n",
       "      <th>4</th>\n",
       "      <td>5</td>\n",
       "      <td>0.31</td>\n",
       "      <td>Good</td>\n",
       "      <td>J</td>\n",
       "      <td>SI2</td>\n",
       "      <td>63.3</td>\n",
       "      <td>58.0</td>\n",
       "      <td>335</td>\n",
       "      <td>4.34</td>\n",
       "      <td>4.35</td>\n",
       "      <td>2.75</td>\n",
       "    </tr>\n",
       "  </tbody>\n",
       "</table>\n",
       "</div>"
      ],
      "text/plain": [
       "   id  carat      cut color clarity  depth  table  price     x     y     z\n",
       "0   1   0.23    Ideal     E     SI2   61.5   55.0    326  3.95  3.98  2.43\n",
       "1   2   0.21  Premium     E     SI1   59.8   61.0    326  3.89  3.84  2.31\n",
       "2   3   0.23     Good     E     VS1   56.9   65.0    327  4.05  4.07  2.31\n",
       "3   4   0.29  Premium     I     VS2   62.4   58.0    334  4.20  4.23  2.63\n",
       "4   5   0.31     Good     J     SI2   63.3   58.0    335  4.34  4.35  2.75"
      ]
     },
     "execution_count": 3,
     "metadata": {},
     "output_type": "execute_result"
    }
   ],
   "source": [
    "data.head()"
   ]
  },
  {
   "cell_type": "code",
   "execution_count": 4,
   "id": "da5a7615",
   "metadata": {
    "ExecuteTime": {
     "end_time": "2023-12-01T14:25:25.347603Z",
     "start_time": "2023-12-01T14:25:25.322359Z"
    }
   },
   "outputs": [
    {
     "name": "stdout",
     "output_type": "stream",
     "text": [
      "[0.23 0.21 0.23 ... 0.7  0.86 0.75]\n",
      "carat\n",
      "RangeIndex(start=0, stop=53940, step=1)\n",
      "float64\n"
     ]
    }
   ],
   "source": [
    "print(data[\"carat\"].values)\n",
    "print(data[\"carat\"].name)\n",
    "print(data[\"carat\"].index)\n",
    "print(data[\"carat\"].dtype)"
   ]
  },
  {
   "cell_type": "code",
   "execution_count": 5,
   "id": "9f38f8f2",
   "metadata": {
    "ExecuteTime": {
     "end_time": "2023-12-01T14:25:25.860076Z",
     "start_time": "2023-12-01T14:25:25.374177Z"
    }
   },
   "outputs": [
    {
     "data": {
      "image/png": "[encoded data removed]",
      "text/plain": [
       "<Figure size 576x360 with 1 Axes>"
      ]
     },
     "metadata": {
      "needs_background": "light"
     },
     "output_type": "display_data"
    }
   ],
   "source": [
    "plt.figure(figsize=(8, 5))\n",
    "\n",
    "plt.plot(\n",
    "    data[\"carat\"],\n",
    "    color=\"lightgrey\",\n",
    "    label=\"Karat\",\n",
    "    alpha=0.3\n",
    ")\n",
    "\n",
    "plt.hlines(\n",
    "    y=mean(data[\"carat\"]),\n",
    "    xmin=0,\n",
    "    xmax=len(data[\"carat\"]),\n",
    "    color=\"r\",\n",
    "    label=\"AVG\"\n",
    ")\n",
    "\n",
    "plt.vlines(\n",
    "    x=10000,\n",
    "    ymin=0,\n",
    "    ymax=5,\n",
    "    color=\"orange\",\n",
    "    label=\"AVG\"\n",
    ")\n",
    "\n",
    "plt.text(\n",
    "    x=11000,\n",
    "    y=3,\n",
    "    s=\"AVG\",\n",
    "    color=\"orange\"\n",
    ")\n",
    "\n",
    "plt.legend(loc=0)\n",
    "\n",
    "plt.title(\"Karatzahl unterschiedlicher Diamanten\")\n",
    "plt.xlabel(\"Elemente\")\n",
    "plt.ylabel(\"Karat\")\n",
    "plt.savefig(\"Mein_Testplot.jpg\")\n",
    "plt.show()"
   ]
  },
  {
   "cell_type": "code",
   "execution_count": null,
   "id": "50c5a700",
   "metadata": {},
   "outputs": [],
   "source": []
  }
 ],
 "metadata": {
  "kernelspec": {
   "display_name": "Python 3 (ipykernel)",
   "language": "python",
   "name": "python3"
  },
  "language_info": {
   "codemirror_mode": {
    "name": "ipython",
    "version": 3
   },
   "file_extension": ".py",
   "mimetype": "text/x-python",
   "name": "python",
   "nbconvert_exporter": "python",
   "pygments_lexer": "ipython3",
   "version": "3.9.9"
  }
 },
 "nbformat": 4,
 "nbformat_minor": 5
}
