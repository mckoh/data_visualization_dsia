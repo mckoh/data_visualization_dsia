{
 "cells": [
  {
   "cell_type": "markdown",
   "metadata": {},
   "source": [
    "# Impact Data Scouting"
   ]
  },
  {
   "cell_type": "code",
   "execution_count": 1,
   "metadata": {},
   "outputs": [],
   "source": [
    "from polars import read_csv"
   ]
  },
  {
   "cell_type": "markdown",
   "metadata": {},
   "source": [
    "## Requirements\n",
    "\n",
    "* The visualization is done for a dashboard\n",
    "* The dashboard is consumed by authorities monitoring the nets"
   ]
  },
  {
   "cell_type": "code",
   "execution_count": 12,
   "metadata": {},
   "outputs": [],
   "source": [
    "pdf = read_csv(\n",
    "    source=\"../data/dummy_daten_impact.csv\",\n",
    "    try_parse_dates=True\n",
    ")"
   ]
  },
  {
   "cell_type": "code",
   "execution_count": 13,
   "metadata": {},
   "outputs": [
    {
     "data": {
      "text/html": [
       "<div><style>\n",
       ".dataframe > thead > tr,\n",
       ".dataframe > tbody > tr {\n",
       "  text-align: right;\n",
       "  white-space: pre-wrap;\n",
       "}\n",
       "</style>\n",
       "<small>shape: (5, 18)</small><table border=\"1\" class=\"dataframe\"><thead><tr><th>Timestamp</th><th>f1</th><th>f2</th><th>f3</th><th>f4</th><th>f5</th><th>f6</th><th>f7</th><th>f8</th><th>f9</th><th>f10</th><th>f11</th><th>f12</th><th>f13</th><th>f14</th><th>f15</th><th>f16</th><th>Annotation</th></tr><tr><td>datetime[μs]</td><td>f64</td><td>f64</td><td>f64</td><td>f64</td><td>f64</td><td>f64</td><td>f64</td><td>f64</td><td>f64</td><td>f64</td><td>f64</td><td>f64</td><td>f64</td><td>f64</td><td>f64</td><td>f64</td><td>i64</td></tr></thead><tbody><tr><td>2023-11-15 08:51:59</td><td>12.8</td><td>7.0</td><td>1.31</td><td>0.95</td><td>1.79</td><td>0.86</td><td>0.84</td><td>0.87</td><td>0.85</td><td>0.87</td><td>0.84</td><td>0.86</td><td>1.79</td><td>0.95</td><td>1.31</td><td>7.0</td><td>1</td></tr><tr><td>2023-11-15 08:52:59</td><td>8.27</td><td>3.35</td><td>0.17</td><td>0.061</td><td>0.018</td><td>0.031</td><td>0.037</td><td>0.017</td><td>0.035</td><td>0.029</td><td>0.019</td><td>0.016</td><td>0.021</td><td>0.053</td><td>0.232</td><td>3.01</td><td>0</td></tr><tr><td>2023-11-15 08:53:59</td><td>9.14</td><td>7.04</td><td>1.42</td><td>0.94</td><td>1.89</td><td>0.88</td><td>0.82</td><td>0.8</td><td>0.82</td><td>0.85</td><td>0.85</td><td>0.83</td><td>1.79</td><td>0.8</td><td>1.28</td><td>7.44</td><td>1</td></tr><tr><td>2023-11-15 08:54:59</td><td>12.44</td><td>6.89</td><td>1.38</td><td>0.96</td><td>1.81</td><td>0.8</td><td>0.85</td><td>0.83</td><td>0.85</td><td>0.83</td><td>0.8</td><td>0.9</td><td>1.7</td><td>0.9</td><td>1.11</td><td>7.34</td><td>1</td></tr><tr><td>2023-11-15 08:55:59</td><td>7.9</td><td>3.81</td><td>0.15</td><td>0.063</td><td>0.038</td><td>0.034</td><td>0.021</td><td>0.01</td><td>0.022</td><td>0.025</td><td>0.019</td><td>0.017</td><td>0.036</td><td>0.053</td><td>0.236</td><td>3.37</td><td>0</td></tr></tbody></table></div>"
      ],
      "text/plain": [
       "shape: (5, 18)\n",
       "┌─────────────────────┬───────┬──────┬──────┬───┬───────┬───────┬──────┬────────────┐\n",
       "│ Timestamp           ┆ f1    ┆ f2   ┆ f3   ┆ … ┆ f14   ┆ f15   ┆ f16  ┆ Annotation │\n",
       "│ ---                 ┆ ---   ┆ ---  ┆ ---  ┆   ┆ ---   ┆ ---   ┆ ---  ┆ ---        │\n",
       "│ datetime[μs]        ┆ f64   ┆ f64  ┆ f64  ┆   ┆ f64   ┆ f64   ┆ f64  ┆ i64        │\n",
       "╞═════════════════════╪═══════╪══════╪══════╪═══╪═══════╪═══════╪══════╪════════════╡\n",
       "│ 2023-11-15 08:51:59 ┆ 12.8  ┆ 7.0  ┆ 1.31 ┆ … ┆ 0.95  ┆ 1.31  ┆ 7.0  ┆ 1          │\n",
       "│ 2023-11-15 08:52:59 ┆ 8.27  ┆ 3.35 ┆ 0.17 ┆ … ┆ 0.053 ┆ 0.232 ┆ 3.01 ┆ 0          │\n",
       "│ 2023-11-15 08:53:59 ┆ 9.14  ┆ 7.04 ┆ 1.42 ┆ … ┆ 0.8   ┆ 1.28  ┆ 7.44 ┆ 1          │\n",
       "│ 2023-11-15 08:54:59 ┆ 12.44 ┆ 6.89 ┆ 1.38 ┆ … ┆ 0.9   ┆ 1.11  ┆ 7.34 ┆ 1          │\n",
       "│ 2023-11-15 08:55:59 ┆ 7.9   ┆ 3.81 ┆ 0.15 ┆ … ┆ 0.053 ┆ 0.236 ┆ 3.37 ┆ 0          │\n",
       "└─────────────────────┴───────┴──────┴──────┴───┴───────┴───────┴──────┴────────────┘"
      ]
     },
     "execution_count": 13,
     "metadata": {},
     "output_type": "execute_result"
    }
   ],
   "source": [
    "pdf.head()"
   ]
  },
  {
   "cell_type": "code",
   "execution_count": null,
   "metadata": {},
   "outputs": [],
   "source": []
  }
 ],
 "metadata": {
  "kernelspec": {
   "display_name": "Python 3",
   "language": "python",
   "name": "python3"
  },
  "language_info": {
   "codemirror_mode": {
    "name": "ipython",
    "version": 3
   },
   "file_extension": ".py",
   "mimetype": "text/x-python",
   "name": "python",
   "nbconvert_exporter": "python",
   "pygments_lexer": "ipython3",
   "version": "3.9.9"
  }
 },
 "nbformat": 4,
 "nbformat_minor": 2
}
