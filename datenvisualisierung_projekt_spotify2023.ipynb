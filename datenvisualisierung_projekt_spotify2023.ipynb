{
 "cells": [
  {
   "cell_type": "markdown",
   "id": "251fd0b3",
   "metadata": {},
   "source": [
    "# Visualisierungprojekt Spotify 2023"
   ]
  },
  {
   "cell_type": "code",
   "execution_count": 1,
   "id": "17a61155",
   "metadata": {
    "ExecuteTime": {
     "end_time": "2023-12-01T22:52:52.745587Z",
     "start_time": "2023-12-01T22:52:48.523563Z"
    }
   },
   "outputs": [],
   "source": [
    "from pandas import read_csv"
   ]
  },
  {
   "cell_type": "markdown",
   "id": "cfc6fd1e",
   "metadata": {},
   "source": [
    "## Daten Laden"
   ]
  },
  {
   "cell_type": "code",
   "execution_count": 3,
   "id": "7f980d94",
   "metadata": {
    "ExecuteTime": {
     "end_time": "2023-12-01T22:55:15.862841Z",
     "start_time": "2023-12-01T22:55:15.837355Z"
    }
   },
   "outputs": [],
   "source": [
    "data = read_csv(\"data/spotify-2023.csv\", encoding=\"latin-1\")"
   ]
  },
  {
   "cell_type": "markdown",
   "id": "35ed99a1",
   "metadata": {},
   "source": [
    "## Data-Story-Layout"
   ]
  },
  {
   "cell_type": "markdown",
   "id": "d41a77ed",
   "metadata": {},
   "source": [
    "Bevor ihr mit dem Visualisieren loslegt, solltet ihr euch mit dem Kontext eurer Story befassen. Da es uns in diesem Projekt um eine Visualisierung geht, ist ein Teil des Wie schon vorgegeben. Die anderen Kontextvariablen müsst ihr aber noch festlegen. Beantwortet dazu die üblichen Fragen:\n",
    "\n",
    "* **Kontext eurer Story:** Wer, Was, Wie?\n",
    "\n",
    "Nun, da das geklärt ist, könnt ihr mit dem Visualisieren beginnen. Jetzt heißt es: Daten Explorieren. Sobald ihr euch einen Überblick verschafft habt, solltet ihr beginnen 2 bis 3 spannende Visualisierungen zu entwickeln. Diese sollten eure Story unterstüzten, die ihr im Zuge dessen mitentwickelt. Entwickelt dazu, wie gewohnt, folgende Dinge:\n",
    "\n",
    "* **Big Idea:** Kernbotschaft eurer Story\n",
    "* **Verkürzte Story Line:** Eure Story am Reißbrett\n",
    "* **3-Minuten-Story:** Eure Story in Kurzform (diesmal versuchen wir es anders herum - erst die Story Line, dann die 3-Minuten-Story)."
   ]
  },
  {
   "cell_type": "markdown",
   "id": "bcee9520",
   "metadata": {},
   "source": [
    "## Visualisierung\n",
    "\n",
    "Nachdem der Kontext umrissen ist, beginnt ihr zu explorieren und eure Story zu entwickeln. Unterhalb könnt ihr nun eure Plots erstellen. Verwendet dazu ein/mehrere der besprochenen Visualisierungsbibliotheken. Wenn ihr mögt, könnt ihr auch neue Bibliotheken auspobieren."
   ]
  },
  {
   "cell_type": "code",
   "execution_count": 4,
   "id": "ca09d56d",
   "metadata": {
    "ExecuteTime": {
     "end_time": "2023-12-01T23:10:35.032734Z",
     "start_time": "2023-12-01T23:10:35.020686Z"
    }
   },
   "outputs": [],
   "source": [
    "### Hier steht euer Code"
   ]
  }
 ],
 "metadata": {
  "kernelspec": {
   "display_name": "Python 3 (ipykernel)",
   "language": "python",
   "name": "python3"
  },
  "language_info": {
   "codemirror_mode": {
    "name": "ipython",
    "version": 3
   },
   "file_extension": ".py",
   "mimetype": "text/x-python",
   "name": "python",
   "nbconvert_exporter": "python",
   "pygments_lexer": "ipython3",
   "version": "3.9.9"
  }
 },
 "nbformat": 4,
 "nbformat_minor": 5
}
